{
 "cells": [
  {
   "cell_type": "code",
   "execution_count": 3,
   "id": "59072619",
   "metadata": {},
   "outputs": [
    {
     "name": "stdout",
     "output_type": "stream",
     "text": [
      "Currency Count -> \n",
      "2000  :  0\n",
      "500  :  2\n",
      "100  :  2\n",
      "50  :  0\n",
      "20  :  2\n",
      "10  :  1\n",
      "5  :  1\n",
      "2  :  0\n",
      "1  :  1\n"
     ]
    }
   ],
   "source": [
    "def breakdown(amount,dn):\n",
    "\n",
    "    notes = dn\n",
    "    print (\"Currency Count -> \")\n",
    "    for i in notes:\n",
    "        c=0\n",
    "        s=notes[i]\n",
    "        while amount >=i and s>0:\n",
    "            c=c+1\n",
    "            s=s-1\n",
    "            amount = amount-i\n",
    "        print (i ,\" : \", c)\n",
    "\n",
    "\n",
    "dn={2000:10,  500:10,  100:20, 50:0, 20:10, 10:5,  5:10, 2:10, 1:10}\n",
    "amount = 1256\n",
    "breakdown(amount,dn)"
   ]
  },
  {
   "cell_type": "code",
   "execution_count": null,
   "id": "103f7359",
   "metadata": {},
   "outputs": [],
   "source": []
  }
 ],
 "metadata": {
  "kernelspec": {
   "display_name": "Python 3",
   "language": "python",
   "name": "python3"
  },
  "language_info": {
   "codemirror_mode": {
    "name": "ipython",
    "version": 3
   },
   "file_extension": ".py",
   "mimetype": "text/x-python",
   "name": "python",
   "nbconvert_exporter": "python",
   "pygments_lexer": "ipython3",
   "version": "3.8.8"
  }
 },
 "nbformat": 4,
 "nbformat_minor": 5
}
